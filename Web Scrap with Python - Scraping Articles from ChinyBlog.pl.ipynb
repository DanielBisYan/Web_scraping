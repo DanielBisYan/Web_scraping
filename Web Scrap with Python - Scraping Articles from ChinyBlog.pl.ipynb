{
 "cells": [
  {
   "cell_type": "markdown",
   "metadata": {},
   "source": [
    "# Scraping blog articles of ChinyBlog.pl with Python and BeautifulSoup"
   ]
  },
  {
   "cell_type": "markdown",
   "metadata": {},
   "source": [
    "## First, we need to import necessary libraries"
   ]
  },
  {
   "cell_type": "code",
   "execution_count": 11,
   "metadata": {},
   "outputs": [],
   "source": [
    "import requests\n",
    "from bs4 import BeautifulSoup\n",
    "\n",
    "# Let's define a function which will help us to scrap pages\n",
    "def soup(url):\n",
    "    response = requests.get(url)\n",
    "    if response.status_code == 200:\n",
    "        return BeautifulSoup(response.content, 'html.parser')\n",
    "    else:\n",
    "        return \"Error\""
   ]
  },
  {
   "cell_type": "code",
   "execution_count": 2,
   "metadata": {},
   "outputs": [],
   "source": [
    "url = 'https://www.chinyblog.pl/blog/'"
   ]
  },
  {
   "cell_type": "markdown",
   "metadata": {},
   "source": [
    "# Let's first scrap all links of posts from the blog page of ChinyBlog.pl\n",
    "\n",
    "## Since posts are dividied into subpages, we need to create a loop to get all aritcles from all subpages.\n",
    "\n",
    "## As we can see in the url (\"https://www.chinyblog.pl/blog/page/1/\"),  the subpages can be easily accessed only by changing the number in the url."
   ]
  },
  {
   "cell_type": "code",
   "execution_count": 3,
   "metadata": {},
   "outputs": [],
   "source": [
    "# Let's define a list to store html of subpages\n",
    "subpages_soups = []\n",
    "\n",
    "# Insert a number of subpages that contains blog articles\n",
    "subpages_number = 3\n",
    "\n",
    "for page in range(subpages_number):\n",
    "    # Scraping subpages\n",
    "    subpages_soups.append(soup(url + \"/page/\" + str(page)))\n",
    "    "
   ]
  },
  {
   "cell_type": "markdown",
   "metadata": {},
   "source": [
    "# Let's extract all links for articles"
   ]
  },
  {
   "cell_type": "code",
   "execution_count": 4,
   "metadata": {},
   "outputs": [],
   "source": [
    "# We gonna store all article links in newly created list\n",
    "article_links = []\n",
    "\n",
    "# Let's loop through our soups to extract all article links\n",
    "for soup in subpages_soups:\n",
    "    # Find all h2 which contain a link to an article\n",
    "    links = soup.find_all(\"h2\", class_ = \"blog-entry-title entry-title\")\n",
    "    \n",
    "    # Loop through all h2 to extract links only\n",
    "    for link in links:\n",
    "        link = link.find(\"a\")['href']\n",
    "        # Append link to article_links list\n",
    "        article_links.append(link)\n",
    "\n",
    "    "
   ]
  },
  {
   "cell_type": "code",
   "execution_count": 5,
   "metadata": {},
   "outputs": [
    {
     "data": {
      "text/plain": [
       "['https://www.chinyblog.pl/jak-powiedziec-przepraszam-po-chinsku/',\n",
       " 'https://www.chinyblog.pl/zwyczaj-krepowania-stop-chinski-ideal-piekna/',\n",
       " 'https://www.chinyblog.pl/chinska-czytanka-w-chinskiej-restauracji/',\n",
       " 'https://www.chinyblog.pl/nowy-format-hsk/',\n",
       " 'https://www.chinyblog.pl/jak-sie-przedstawic-po-chinsku-podstawy/',\n",
       " 'https://www.chinyblog.pl/kuchnia-chinska-przepis-kurczak-kung-pao/']"
      ]
     },
     "execution_count": 5,
     "metadata": {},
     "output_type": "execute_result"
    }
   ],
   "source": [
    "article_links[::5]"
   ]
  },
  {
   "cell_type": "markdown",
   "metadata": {},
   "source": [
    "# Great, we got all articles, so we can scrap each of them now\n",
    "\n",
    "## Let's scrap each of articles first"
   ]
  },
  {
   "cell_type": "code",
   "execution_count": 18,
   "metadata": {},
   "outputs": [],
   "source": [
    "articles_soups = []\n",
    "\n",
    "for link in article_links:\n",
    "\n",
    "    # Scrap each article\n",
    "    article_soup = soup(link)\n",
    "\n",
    "    # Append html to articles_soup list\n",
    "    articles_soups.append(article_soup)\n"
   ]
  },
  {
   "cell_type": "markdown",
   "metadata": {},
   "source": [
    "## Now, let's define a dictionary to store our data"
   ]
  },
  {
   "cell_type": "code",
   "execution_count": 40,
   "metadata": {},
   "outputs": [],
   "source": [
    "articles_dict = {\n",
    "    'Title': [],\n",
    "    'Date': [],\n",
    "    'Category': [],\n",
    "    'Content': []\n",
    "}"
   ]
  },
  {
   "cell_type": "markdown",
   "metadata": {},
   "source": [
    "## Scraping titles"
   ]
  },
  {
   "cell_type": "code",
   "execution_count": 41,
   "metadata": {},
   "outputs": [],
   "source": [
    "for soup in articles_soups:\n",
    "    \n",
    "    title = soup.find(\"h1\", class_ = \"title entry-title\").text\n",
    "    \n",
    "    # Append title to our dictionary\n",
    "    articles_dict['Title'].append(title)"
   ]
  },
  {
   "cell_type": "markdown",
   "metadata": {},
   "source": [
    "## Scraping dates"
   ]
  },
  {
   "cell_type": "code",
   "execution_count": 42,
   "metadata": {},
   "outputs": [],
   "source": [
    "for soup in articles_soups:\n",
    "    \n",
    "    date = soup.find(\"time\", class_ = \"entry-date published\").text\n",
    "    \n",
    "    # Append date to our dictionary\n",
    "    articles_dict['Date'].append(date)"
   ]
  },
  {
   "cell_type": "markdown",
   "metadata": {},
   "source": [
    "## Scraping categories"
   ]
  },
  {
   "cell_type": "code",
   "execution_count": 43,
   "metadata": {},
   "outputs": [],
   "source": [
    "for soup in articles_soups:\n",
    "    \n",
    "    category = soup.find(\"li\", class_ = \"meta category\").text\n",
    "    \n",
    "    # Append category to our dictionary\n",
    "    articles_dict['Category'].append(category)"
   ]
  },
  {
   "cell_type": "markdown",
   "metadata": {},
   "source": [
    "## Scraping content"
   ]
  },
  {
   "cell_type": "code",
   "execution_count": 44,
   "metadata": {},
   "outputs": [],
   "source": [
    "for soup in articles_soups:\n",
    "    \n",
    "    content = soup.find(\"div\", class_ = \"nv-content-wrap entry-content\").text\n",
    " \n",
    "    # Append content to our dictionary\n",
    "    articles_dict['Content'].append(content)"
   ]
  },
  {
   "cell_type": "markdown",
   "metadata": {},
   "source": [
    "# Let's save our data to excel csv file with the help of Pandas"
   ]
  },
  {
   "cell_type": "code",
   "execution_count": 46,
   "metadata": {},
   "outputs": [],
   "source": [
    "import pandas as pd"
   ]
  },
  {
   "cell_type": "code",
   "execution_count": 51,
   "metadata": {},
   "outputs": [
    {
     "data": {
      "text/html": [
       "<div>\n",
       "<style scoped>\n",
       "    .dataframe tbody tr th:only-of-type {\n",
       "        vertical-align: middle;\n",
       "    }\n",
       "\n",
       "    .dataframe tbody tr th {\n",
       "        vertical-align: top;\n",
       "    }\n",
       "\n",
       "    .dataframe thead th {\n",
       "        text-align: right;\n",
       "    }\n",
       "</style>\n",
       "<table border=\"1\" class=\"dataframe\">\n",
       "  <thead>\n",
       "    <tr style=\"text-align: right;\">\n",
       "      <th></th>\n",
       "      <th>Title</th>\n",
       "      <th>Date</th>\n",
       "      <th>Category</th>\n",
       "      <th>Content</th>\n",
       "    </tr>\n",
       "  </thead>\n",
       "  <tbody>\n",
       "    <tr>\n",
       "      <th>0</th>\n",
       "      <td>Jak powiedzieć przepraszam po chińsku</td>\n",
       "      <td>15/06/2020</td>\n",
       "      <td>Język chiński</td>\n",
       "      <td>\\nW języku chińskim istnieje wiele sposobów na...</td>\n",
       "    </tr>\n",
       "    <tr>\n",
       "      <th>1</th>\n",
       "      <td>Chińska czytanka: W chińskiej restauracji</td>\n",
       "      <td>11/06/2020</td>\n",
       "      <td>Język chiński</td>\n",
       "      <td>\\nW serii chińska czytanka będziemy udostępnia...</td>\n",
       "    </tr>\n",
       "    <tr>\n",
       "      <th>2</th>\n",
       "      <td>Vlogi do nauki języka chińskiego na YouTube</td>\n",
       "      <td>06/06/2020</td>\n",
       "      <td>Język chiński, Kultura</td>\n",
       "      <td>\\nOglądanie vlogów po chińsku to doskonały spo...</td>\n",
       "    </tr>\n",
       "    <tr>\n",
       "      <th>3</th>\n",
       "      <td>Dzień Dziecka w Chinach</td>\n",
       "      <td>01/06/2020</td>\n",
       "      <td>Kultura</td>\n",
       "      <td>\\nDzień dziecka podobnie jak w wielu krajach n...</td>\n",
       "    </tr>\n",
       "    <tr>\n",
       "      <th>4</th>\n",
       "      <td>Dzień Matki w Chinach</td>\n",
       "      <td>26/05/2020</td>\n",
       "      <td>Kultura</td>\n",
       "      <td>\\nDzień Matki podobnie jak w wielu krajach obc...</td>\n",
       "    </tr>\n",
       "  </tbody>\n",
       "</table>\n",
       "</div>"
      ],
      "text/plain": [
       "                                         Title        Date  \\\n",
       "0        Jak powiedzieć przepraszam po chińsku  15/06/2020   \n",
       "1    Chińska czytanka: W chińskiej restauracji  11/06/2020   \n",
       "2  Vlogi do nauki języka chińskiego na YouTube  06/06/2020   \n",
       "3                      Dzień Dziecka w Chinach  01/06/2020   \n",
       "4                        Dzień Matki w Chinach  26/05/2020   \n",
       "\n",
       "                 Category                                            Content  \n",
       "0           Język chiński  \\nW języku chińskim istnieje wiele sposobów na...  \n",
       "1           Język chiński  \\nW serii chińska czytanka będziemy udostępnia...  \n",
       "2  Język chiński, Kultura  \\nOglądanie vlogów po chińsku to doskonały spo...  \n",
       "3                 Kultura  \\nDzień dziecka podobnie jak w wielu krajach n...  \n",
       "4                 Kultura  \\nDzień Matki podobnie jak w wielu krajach obc...  "
      ]
     },
     "execution_count": 51,
     "metadata": {},
     "output_type": "execute_result"
    }
   ],
   "source": [
    "articles_df = pd.DataFrame(articles_dict)\n",
    "articles_df.head()"
   ]
  },
  {
   "cell_type": "markdown",
   "metadata": {},
   "source": [
    "## Save to csv"
   ]
  },
  {
   "cell_type": "code",
   "execution_count": 52,
   "metadata": {},
   "outputs": [],
   "source": [
    "articles_df.to_csv(\"ChinBlog_articles.csv\")"
   ]
  }
 ],
 "metadata": {
  "kernelspec": {
   "display_name": "Python 3",
   "language": "python",
   "name": "python3"
  },
  "language_info": {
   "codemirror_mode": {
    "name": "ipython",
    "version": 3
   },
   "file_extension": ".py",
   "mimetype": "text/x-python",
   "name": "python",
   "nbconvert_exporter": "python",
   "pygments_lexer": "ipython3",
   "version": "3.7.6"
  }
 },
 "nbformat": 4,
 "nbformat_minor": 4
}
