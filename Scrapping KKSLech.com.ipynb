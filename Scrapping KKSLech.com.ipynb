{
 "cells": [
  {
   "cell_type": "markdown",
   "metadata": {},
   "source": [
    "# Scrapping articles from KKSLech.com"
   ]
  },
  {
   "cell_type": "code",
   "execution_count": 114,
   "metadata": {},
   "outputs": [],
   "source": [
    "import requests\n",
    "from bs4 import BeautifulSoup\n",
    "\n",
    "def soup(url):\n",
    "    response = requests.get(url)\n",
    "    if response.status_code == 200:\n",
    "        return BeautifulSoup(response.content, 'html.parser')\n",
    "    else:\n",
    "        return \"Error\""
   ]
  },
  {
   "cell_type": "code",
   "execution_count": 12,
   "metadata": {},
   "outputs": [],
   "source": [
    "kks = soup('http://kkslech.com/')"
   ]
  },
  {
   "cell_type": "markdown",
   "metadata": {},
   "source": [
    "### Finding links for each article from the main page"
   ]
  },
  {
   "cell_type": "code",
   "execution_count": 13,
   "metadata": {},
   "outputs": [
    {
     "data": {
      "text/plain": [
       "'http://kkslech.com/2019/12/01/wasze-oceny-za-mecz-z-wisla-p/'"
      ]
     },
     "execution_count": 13,
     "metadata": {},
     "output_type": "execute_result"
    }
   ],
   "source": [
    "kks.find('h2', class_='post-title').find('a')['href']"
   ]
  },
  {
   "cell_type": "code",
   "execution_count": 7,
   "metadata": {},
   "outputs": [],
   "source": [
    "articles = kks.find_all('h2', class_='post-title')"
   ]
  },
  {
   "cell_type": "code",
   "execution_count": 16,
   "metadata": {},
   "outputs": [],
   "source": [
    "article_titles = []\n",
    "for article in articles:\n",
    "    article_title = article.find('a')['href']\n",
    "    article_titles.append(article_title)"
   ]
  },
  {
   "cell_type": "code",
   "execution_count": 32,
   "metadata": {},
   "outputs": [],
   "source": [
    "article_summary = {\n",
    "    'Title': [],\n",
    "    'Summary': [],\n",
    "    'Content': []\n",
    "}\n",
    "\n",
    "for article in article_titles:\n",
    "    summary = soup(article)\n",
    "    article_sum = summary.find('strong').text\n",
    "    article_title = summary.find('h1', class_= 'post-title').text\n",
    "    #article_content = summary.find()\n",
    "    article_content = summary.find('div', class_='main-inner group').find_all('p')\n",
    "    single_content = ''\n",
    "    for p in article_content[3::]:\n",
    "        if \"Obserwuj KKSLECH.com\" not in p.text:\n",
    "            single_content += p.text\n",
    "        else:\n",
    "            break   \n",
    "    \n",
    "    #article_summary['Content'].append(article_content)\n",
    "    article_summary['Summary'].append(article_sum)\n",
    "    article_summary['Title'].append(article_title)\n",
    "    article_summary['Content'].append(single_content)"
   ]
  },
  {
   "cell_type": "markdown",
   "metadata": {},
   "source": [
    "## Creating KKS-articles.txt and writing down articles to the file"
   ]
  },
  {
   "cell_type": "code",
   "execution_count": 118,
   "metadata": {},
   "outputs": [],
   "source": [
    "f = open(\"KKS-articles.txt\", \"w\", encoding=\"utf-8\")\n",
    "for i in range(0,(len(article_summary['Title']))):\n",
    "    f.write(article_summary['Title'][i].upper()+'\\n')\n",
    "    f.write('\\n'+article_summary['Summary'][i]+'\\n')\n",
    "    f.write('\\n'+article_summary['Content'][i]+'\\n')\n",
    "    f.write('\\n ++++++++++++++++++++++++++++++++++++++++++++++++++++ \\n')\n",
    "    \n",
    "f.close()   "
   ]
  }
 ],
 "metadata": {
  "kernelspec": {
   "display_name": "Python 3",
   "language": "python",
   "name": "python3"
  },
  "language_info": {
   "codemirror_mode": {
    "name": "ipython",
    "version": 3
   },
   "file_extension": ".py",
   "mimetype": "text/x-python",
   "name": "python",
   "nbconvert_exporter": "python",
   "pygments_lexer": "ipython3",
   "version": "3.7.6"
  }
 },
 "nbformat": 4,
 "nbformat_minor": 2
}
