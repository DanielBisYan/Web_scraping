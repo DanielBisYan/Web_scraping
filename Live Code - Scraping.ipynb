{
 "cells": [
  {
   "cell_type": "markdown",
   "metadata": {},
   "source": [
    "# Group Work\n",
    "From latest stories find:\n",
    "        * title\n",
    "        * time\n",
    "        * content\n",
    "        * author\n",
    "        * duration"
   ]
  },
  {
   "cell_type": "code",
   "execution_count": 1,
   "metadata": {},
   "outputs": [],
   "source": [
    "import requests\n",
    "from bs4 import BeautifulSoup\n",
    "from selenium import webdriver\n",
    "import time"
   ]
  },
  {
   "cell_type": "markdown",
   "metadata": {},
   "source": [
    "## Opening home_url with the use of webdriver"
   ]
  },
  {
   "cell_type": "code",
   "execution_count": 3,
   "metadata": {},
   "outputs": [],
   "source": [
    "home_url = \"https://www.techinasia.com\"\n",
    "driver_path = 'C:\\chromedriver'\n",
    "driver = webdriver.Chrome(driver_path)\n",
    "driver.get(home_url)\n",
    "soup = BeautifulSoup(driver.page_source,'html.parser')\n",
    "#driver.execute_script(\"window.scrollTo(0, Y)\") "
   ]
  },
  {
   "cell_type": "markdown",
   "metadata": {},
   "source": [
    "## Scorling down the page to the bottom, in order to get 'the whole' html"
   ]
  },
  {
   "cell_type": "code",
   "execution_count": 4,
   "metadata": {},
   "outputs": [],
   "source": [
    "home_url = \"https://www.techinasia.com\"\n",
    "driver_path = 'C:\\chromedriver'\n",
    "driver = webdriver.Chrome(driver_path)\n",
    "driver.get(home_url)\n",
    "\n",
    "# Due to the slow loading speed, needed to set 10 seconds pause, so it has time to load\n",
    "# If the pause time would be around 2 seconds, it is a good method to make computer think, that the program is a human being\n",
    "SCROLL_PAUSE_TIME = 10\n",
    "\n",
    "# Get scroll height\n",
    "last_height = driver.execute_script(\"return document.body.scrollHeight\")\n",
    "\n",
    "while True:\n",
    "    # Scroll down to bottom\n",
    "    driver.execute_script(\"window.scrollTo(0, document.body.scrollHeight);\")\n",
    "\n",
    "    # Wait to load page\n",
    "    time.sleep(SCROLL_PAUSE_TIME)\n",
    "\n",
    "    # Calculate new scroll height and compare with last scroll height\n",
    "    new_height = driver.execute_script(\"return document.body.scrollHeight\")\n",
    "    if new_height == last_height:\n",
    "        soup = BeautifulSoup(driver.page_source,'html.parser')\n",
    "        break\n",
    "    last_height = new_height"
   ]
  },
  {
   "cell_type": "markdown",
   "metadata": {},
   "source": [
    "## Scrapping all articles links from home_url (soup)"
   ]
  },
  {
   "cell_type": "code",
   "execution_count": 6,
   "metadata": {},
   "outputs": [],
   "source": [
    "links = soup.find_all('h2', class_='jsx-1431877815')\n",
    "articles_urls = []\n",
    "\n",
    "for link in links:\n",
    "    link = home_url + link.find('a')['href']\n",
    "    articles_urls.append(link)"
   ]
  },
  {
   "cell_type": "markdown",
   "metadata": {},
   "source": [
    "## Scraping: title, content, author, duration, time from every single article"
   ]
  },
  {
   "cell_type": "code",
   "execution_count": 9,
   "metadata": {},
   "outputs": [],
   "source": [
    "articles = {\n",
    "    'title': [],\n",
    "    'time': [],\n",
    "    'content': [],\n",
    "    'author': [],\n",
    "    'duration': []\n",
    "}\n",
    "\n",
    "for article in articles_urls:\n",
    "    driver.get(article)\n",
    "    article = BeautifulSoup(driver.page_source,'html.parser')\n",
    "    articles['title'].append(article.find('h1', class_='jsx-680040032').text)\n",
    "    articles['time'].append(article.find('time', class_='jsx-86044172 time inline-block')['datetime'])\n",
    "    content = article.find(class_='jsx-2413631005 content').find_all('p')\n",
    "    content = [x.text for x in content]\n",
    "    articles['content'].append(' '.join(content))\n",
    "    articles['author'].append(article.find('a', class_='author inline-block').text.strip(' '))\n",
    "    articles['duration'].append(article.find('span', class_='jsx-86044172 read inline-block').text)\n",
    "\n",
    "#close driver after scraping finished\n",
    "driver.close()"
   ]
  },
  {
   "cell_type": "code",
   "execution_count": 10,
   "metadata": {},
   "outputs": [
    {
     "data": {
      "text/plain": [
       "{'title': ['Here’s how AI is powering Grab’s ambitions for Southeast Asia',\n",
       "  'Ovo CEO talks company strategy, investments, rumors'],\n",
       " 'time': ['3:00 PM at Dec 3, 2019', '12:54 PM at Dec 3, 2019'],\n",
       " 'content': ['AI has long ceased to be a subject discussed only by deep tech experts. It’s now a part of our everyday lives, affecting not only how we work and do business, but also how we shop, bank, and get around. That said, just because the tech has arrived doesn’t mean that its story is complete. Its use cases continue to grow, especially in Southeast Asia, a developing region that faces issues such as a lack of financial inclusion, traffic congestion, as well as poor infrastructure. A report from McKinsey & Company outlines even more ways that AI can contribute to positive social outcomes in Southeast Asia, helping sectors like education and remote healthcare as well as in the development of medicine. The potential for AI-enabled progress is immense. Southeast Asian everyday super app Grab plays a big role in furthering the application of the tech. “We believe that AI can unlock new ways to change the lives of millions of Southeast Asians for the better,” says Foo Wui Ngiap, the firm’s head of AI initiatives. Foo Wui Ngiap, head of AI initiatives at Grab / Photo credit: Grab The regional unicorn is known for its consumer-facing services, such as ride-hailing, food delivery, and mobile payments. However, not many people realize just how much of these platforms are a product of effective AI implementation. “A lot of what you see in the Grab app today is powered by some form of AI,” says Foo. For instance, a user of Grab’s ride-hailing service will not simply be assigned to the nearest driver when they request for a ride. “The driver closest to you may be about to wrap up his day. Your destination is out of his way, and he’s likely to cancel on you,” explains Foo. He adds that the company takes into account “over 50 attributes – driver profile, the timing of his last ride, location, time of day, etc. – to find you the best match.” In fact, a feature that Grab rolled out last year uses AI to allow drivers to complete as many jobs as possible between their current location and their homes, Foo tells Tech in Asia. This kind of detail is present in each service the company offers. For example, it uses natural language processing (NLP) techniques to address customer feedback at scale and help users discover their desired services quickly. It also analyzes behavioral and earnings data to extend lines of credit to its driver partners that enables them to cover daily expenses like fuel and utility bills. Grab does this with “hundreds of thousands of matches and millions of transactions at any second,” Foo says. However, changing lives goes beyond just providing great service. “We want to use AI to solve Southeast Asia’s biggest problems, to find ways to elevate the quality of life for the 650 million people who live here,” Foo emphasizes. To this end, Grab has four strategic focus areas for AI over the next 12 months, which includes fixing traffic congestion issues and building a richer understanding of the region’s roads, solving fraud to protect users across the Grab ecosystem and making transport safer, increasing personalization and marketplace optimization, and bridging Southeast Asia’s communication gaps. The company’s business objectives would work hand in hand with these goals. For example, the road network data that the company collects from its driver partners – who collectively traverse 320 million kilometers each day – is used to improve its maps and can also be used to reduce traffic congestion. In this way, Grab has discovered more than 750 km of undocumented road segments in Jakarta alone. Effective optimization of demand and supply doesn’t just mean faster delivery times. It could also lead to fewer cars on the road and less food waste. AI will also support efforts to ensure the safety of passengers, working in concert with real-time safety monitoring to detect anomalous signals such as route deviations. “We’ll continue to invest heavily in safety so that we get to zero preventable incidents,” adds Foo. As for bridging communication gaps, he points to the diversity of languages across the region, and how they aren’t as well-served by the large providers of translation services. Grab is actively working with AI partners to address this issue. Foo is confident that the company can drive these positive changes. “Firstly, with the data we have – every day we generate about 40 terabytes of data – no one understands the region better than we do,” he claims. “Secondly, we are committed to developing new tools and technologies that are specifically tailored to the nuances of the region.” “Ultimately, we want to make good use of this data – either to power intelligent and delightful customer outcomes or for the good of Southeast Asia in a bigger way.” Image credit: Grab This year, Grab has invested over US$100 million in AI development, spread across infrastructure, talent, technology, and strategic partnerships. The company is expecting to grow this amount by 50% in 2020 as it moves toward becoming – as Foo puts it – an “AI-everywhere” operation. “We want to build an organization that thinks and breathes AI,” he says. Internally, this involves getting all of its roughly 2,000 tech and engineering employees to undergo training in artificial intelligence, as well as embedding members of its 300-strong AI and data science team – one of the largest in Southeast Asia – across the organization. “We want everyone equipped to actively think of ways to leverage AI in their jobs,” Foo explains. “Put it this way: AI in lots of little things makes the big thing better.” Externally, the company has partnered with Microsoft, tapping into the US tech giant’s capabilities in facial recognition to enhance verification features for both drivers and customers, and also in NLP to improve its sentiment analysis abilities, among other features. Grab is also working closely with universities to establish laboratories, mentorship programs, and internships to build the AI and data science talent pool in Southeast Asia. Foo notes that this is key if AI is to reach its full potential in the region. “Data scientists are in short supply even in the global AI hubs, and that shortage is felt even more acutely in ASEAN,” he says. “We set up local R&D centers in cities like Singapore, Jakarta, Ho Chi Minh City, and Kuala Lumpur as we see significant potential to grow our local talent over time. It’s a long-term investment back into the region.” While it’s easy to get lost in the many ways to tackle AI adoption, the company is laser-focused on the ultimate objective. “We’ve never built tech for the sake of it, and that applies to our AI strategy as well,” Foo stresses. “AI isn’t the end goal. Solving problems is.” Read more about Grab’s initiatives on its blog.',\n",
       "  'Indonesian digital payments player Ovo is undoubtedly a newsmaker in the country’s digital ecosystem. The company has grown rapidly in the past year and it has achieved many important milestones: it acquired lending platform Taralite and online investment platform Bareksa, invested in two tech startups, and rolled out the PayLater feature. Ovo recently made headlines when Indonesia’s former IT minister, Rudiantara, announced that the company has entered the unicorn club as its valuation hit US$1 billion. According to the 2019 Indonesian Fintech Report by Daily Social, Ovo is the most popular e-wallet platform among Indonesians and it secured the second spot as the most used digital wallet in the country. Ovo CEO Jason Thompson / Photo credit: Tech in Asia The tallest trees catch the most wind as Ovo has been in the media spotlight in the past few months because of merger issues with a competitor, Ant Financial-backed Dana. Most recently, its parent company, Indonesian conglomerate Lippo Group, reportedly sold 70% of its stake in Ovo due to the latter’s large expenditure. Responding to the rumors, Ovo’s CEO, Jason Thompson, remained neutral and said that he doesn’t really think of market speculation and wants to focus on further growing the business instead. With a dynamic competition in the Indonesian fintech landscape today, it is likely that we’ll see more of Ovo in many local and international news outlets in the future. KrAsia recently met with Thompson at the 2019 Wild Digital Conference in Jakarta, and he discussed the company’s strategies going forward. Looking back at what Ovo has achieved this year, what stage is the company at now? Firstly, we are genuinely humbled to be recognized as the fifth unicorn. The whole team was really excited, and this accolade is great for business. It shows external investment, how rapid the growth of fintech in Indonesia has been, and we are the only true fintech unicorn. But honestly, we feel that we just started. However, it also forces a lot of pressure on us because the expectations are higher than ever – from Bank Indonesia, the government, and more importantly, from our customers. Looking back at this year, we’ve had a really tough but successful year. Our organization is growing, we really cemented ourselves as the number one payment platform in the country, we developed new services, and we’ve had a great year working with Grab and Tokopedia. We’ve got some great metrics as well. In 2019, we had more people transact with us, thanks to the many partnerships we created in the ecosystem. Our annual transactions were 27.7 times higher than the previous year. We have increased total payment value by 18.5 times and in-store value facilities by 6.8 times. Ovo’s monthly active users grew 400% per annum this year. I believe that financial literacy and inclusion have five challenges. The first is to get people to register on the platform, the second for them to top up, and the third is to encourage them to pay with our platform. The fourth and the fifth are to make them re-top up and, finally, pay again with the same app. Now that people store their money with Ovo, we believe that we can drive financial literacy for savings, investments, and others. What is Ovo’s focus in 2020? The three focus areas for me in 2020 include accelerating growth for lending – most of that will focus on merchants and some on consumer lending. The number two priority is to execute with Bareksa for e-investment. I think we can learn from China’s success story with digital investment players like Yu’e Bao and see how we can execute it here in Indonesia. Number three is a focus on insurance via a partnership with Prudential. We’re still developing insurance products and expect to release them next year. So, we are moving from payments into financial services this and next year. As with payments, we’ll apply the open ecosystem for financial services. For example, for lending, we have consumer lending with Tokopedia through our PayLater feature. We also have Ovo Dana Tara, a capital loan specifically for our merchants, and Ovo Talangan Siaga, a special short-term loan for Grab partners and agents. It’s a hybrid of merchants and consumer lending agents, and we’ll scale this next year. How have you positioned Ovo among its Indonesian digital wallet competitors? Our biggest competition is still cash because e-money payments currently only make up 2.3% [of payments] in Indonesia, so I don’t think that the [mobile wallet] market is congested. Although many people want to enter the market by launching an e-wallet platform, it is difficult to sustain in Indonesia unless you have the right partnerships and usage model. Our focus is to achieve sustainability, and that’s why we are investing more in financial services as we believe this is the right path to maturity and sustainability in the long run. We believe that as long as we serve our partners, merchants, and customers well, we will be successful in this market. Entering Ovo’s third year, do you think that money-burning strategies like cashback and promotions are still relevant? I think cashback is important as a stimulus at a point in time, but it is not sustainable. It’s like a physics problem: if you’re going to move a large object, you need to have a huge amount of energy at the beginning of the movement, but once you get the momentum, then you can reduce that energy. With payments, the energy comes from subsidies. We have a clear roadmap to sustainability and profitability, and we’ll reduce this [money-burning marketing] significantly next year. It’s not just us, I believe that our peers have also invested in a similar way to establish their business. So cashback or other promotions are still important but we have to rationalize them and there must be a path of subsidies’ corrections. What’s the nature of Ovo’s partnership with Grab now, considering that Ovo is no longer a sole payment partner in Grab’s ecosystem? We’re an independent organization, so our relationships with Grab, also with Tokopedia, are mostly focused on execution. My teams spend a lot of time to think and plan about what can we do with Grab or Tokopedia. We have to serve them in the best way, but we are not in an exclusive contract. Now Grab has LinkAja in its ecosystem and Tokopedia has many payment offerings. We’re not in a privileged position with our partners; we have to work hard, otherwise we’ll lose our position because the partnership is based on value exchange. We don’t believe in exclusivity as it is not good for the market and consumers. Ovo has invested in two startups this year: new-retail startup Warung Pintar and adtech platform StickEarn. Are investments also part of your strategy going forward? These were very strategic moves, although relatively low in value. For StickEarn, we believe that engaging consumers through interactive marketing is critical, so we felt that the value exchange between the companies was very close. StickEarn is doing great things and they will be successful in Indonesia. As for Warung Pintar, their existence is critical because nobody was defending the warung or street stalls before. When I first came to Indonesia, I quickly realized that warungs are central to Indonesian culture, but nobody really takes care of them. Warung Pintar learned their problems and thought about how they could bring a different model for warungs so they can serve more in the community. They provide the warungs with digital support and infrastructure including payments, and I’m really excited about the work we’re doing here. Investments in these two companies involve specific purposes. It is really about working strategically to drive financial inclusion but I wouldn’t expect to invest in more five or 10 companies in the future because we’re not a platform for entrepreneurs. Our mission is to serve the market, and one way is by establishing a strategic partnership with other organizations and see how we can exchange and maximize our values. Ovo has been dealing with many rumors this year – one of the biggest is the merger with Dana. How are you addressing this issue? What I can tell you is I don’t really think about noisy speculations out there. The fintech landscape is dynamic. I feel that people like to speculate about fintech players like what they do in football – you know, every season football fans will predict which clubs will buy which players, and so on [laughs]. What will happen in 2020 is that the market will start to fracture. It may lose people because the global investment environment is changing rapidly, and if businesses don’t have a clear strategy, it will be a tough year for them. So we’re focusing on execution and closely watching the market, which already takes 18 hours a day of my life so I have no capacity for anything else. Are you planning to raise capital soon? We probably will raise the capital sometime during the first half of next year. We’re exploring that opportunity but we have no announcement yet about the potential investors or clear timeline for now. How do you view the mobile payments landscape in Indonesia today? Globally, Indonesia is the center of fintech right now. China, to a large degree, is hard to touch because there are already too many dominant players, with Ant Financial currently leading [the market]. What I see is that the fintech revolution is happening here and that more organizations are trying to come to Indonesia, both legally or illegally. We have to ensure that we protect our ecosystem, economy, and domestic income. The development of regulations is the key to ensuring a healthy business and ecosystem, and I genuinely think that Bank Indonesia has been doing well and been supportive so far. I believe fintech in Indonesia is maturing and will reach its inflection point in three to five years. This interview has been edited for length and clarity. This report was first published on KrAsia.'],\n",
       " 'author': ['Winston Zhang', 'Khamila Mulia'],\n",
       " 'duration': ['5 min read', '7 min read']}"
      ]
     },
     "execution_count": 10,
     "metadata": {},
     "output_type": "execute_result"
    }
   ],
   "source": [
    "articles"
   ]
  },
  {
   "cell_type": "code",
   "execution_count": null,
   "metadata": {},
   "outputs": [],
   "source": []
  }
 ],
 "metadata": {
  "kernelspec": {
   "display_name": "Python 3",
   "language": "python",
   "name": "python3"
  },
  "language_info": {
   "codemirror_mode": {
    "name": "ipython",
    "version": 3
   },
   "file_extension": ".py",
   "mimetype": "text/x-python",
   "name": "python",
   "nbconvert_exporter": "python",
   "pygments_lexer": "ipython3",
   "version": "3.7.3"
  }
 },
 "nbformat": 4,
 "nbformat_minor": 2
}
